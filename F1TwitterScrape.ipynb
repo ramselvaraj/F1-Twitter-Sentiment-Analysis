{
  "nbformat": 4,
  "nbformat_minor": 0,
  "metadata": {
    "colab": {
      "provenance": []
    },
    "kernelspec": {
      "name": "python3",
      "display_name": "Python 3"
    },
    "language_info": {
      "name": "python"
    }
  },
  "cells": [
    {
      "cell_type": "markdown",
      "source": [
        "<img src = \"https://content.api.news/v3/images/bin/9469b4c39bcfe9711b92c28b4194a9f0\" height = 300 width = 500></img>\n",
        "# **Building the Dataset for F1 Twitter Sentiment Analysis**\n",
        "## Constructing Tweet Dataset of tweets following Abu Dhabi 2021 GP\n",
        "In this project, I am going to be constructing a dataset containing Tweet data following the controversial title-deciding Abu Dhabi 2021 GP \n",
        "<br>"
      ],
      "metadata": {
        "id": "biLdbG3fnAkK"
      }
    },
    {
      "cell_type": "markdown",
      "source": [
        "### Importing Libraries"
      ],
      "metadata": {
        "id": "99YFyj_r4H5s"
      }
    },
    {
      "cell_type": "markdown",
      "source": [
        "### Scraping Tweets\n",
        "#### Gathering all tweets that mention Red Bull Racing for a 2 week period following the Finale"
      ],
      "metadata": {
        "id": "U5QZxsZ24Lan"
      }
    },
    {
      "cell_type": "code",
      "source": [
        "import snscrape.modules.twitter as sntwitter\n",
        "import pandas as pd\n",
        "from datetime import datetime, timedelta\n",
        "\n",
        "# Set variables\n",
        "start_date = datetime(2021, 12, 12)\n",
        "end_date = datetime(2021, 12, 26)\n",
        "search_text = \"@redbullracing\"\n",
        "max_tweets = 25000\n",
        "\n",
        "# Define a search query to get tweets that mention the search text between the start and end dates\n",
        "query = f\"{search_text} since:{start_date.date()} until:{end_date.date()} lang:en\"\n",
        "\n",
        "# Use snscrape to execute the search query and iterate over the results\n",
        "tweets = []\n",
        "tweet_count = 0\n",
        "for tweet in sntwitter.TwitterSearchScraper(query).get_items():\n",
        "    # Check if the tweet mentions the search text and is in English\n",
        "    #if search_text.lower() in tweet.content.lower() and detect(tweet.content) == \"en\":\n",
        "        # Add the tweet to the list\n",
        "    tweets.append({\n",
        "            \"id\": tweet.id,\n",
        "            \"date\": tweet.date,\n",
        "            \"text\": tweet.content,\n",
        "            \"user\": tweet.user.username\n",
        "        })\n",
        "    tweet_count += 1\n",
        "    # Stop scraping if the maximum number of tweets has been reached\n",
        "    if tweet_count >= max_tweets:\n",
        "        break\n",
        "\n",
        "# Convert the list of tweets to a pandas DataFrame for further analysis\n",
        "tweets_df = pd.DataFrame(tweets)"
      ],
      "metadata": {
        "colab": {
          "base_uri": "https://localhost:8080/"
        },
        "id": "mzwUEM5wcsGL",
        "outputId": "f4fac20e-d508-43b9-d2c4-37e87f4b94b0"
      },
      "execution_count": null,
      "outputs": [
        {
          "output_type": "stream",
          "name": "stderr",
          "text": [
            "<ipython-input-39-941df1f1da63>:24: DeprecatedFeatureWarning: content is deprecated, use rawContent instead\n",
            "  \"text\": tweet.content,\n"
          ]
        }
      ]
    },
    {
      "cell_type": "code",
      "source": [
        "tweets_df"
      ],
      "metadata": {
        "colab": {
          "base_uri": "https://localhost:8080/",
          "height": 424
        },
        "id": "3TkDxPrxcyuX",
        "outputId": "560b47d6-80ba-4799-fb81-b282ea1f9db4"
      },
      "execution_count": null,
      "outputs": [
        {
          "output_type": "execute_result",
          "data": {
            "text/plain": [
              "                        id                      date  \\\n",
              "0      1474892038067916802 2021-12-25 23:57:18+00:00   \n",
              "1      1474891487674617864 2021-12-25 23:55:07+00:00   \n",
              "2      1474889745293578243 2021-12-25 23:48:12+00:00   \n",
              "3      1474889292103176194 2021-12-25 23:46:24+00:00   \n",
              "4      1474887568718286852 2021-12-25 23:39:33+00:00   \n",
              "...                    ...                       ...   \n",
              "24995  1471255419729371142 2021-12-15 23:06:41+00:00   \n",
              "24996  1471255384937672706 2021-12-15 23:06:33+00:00   \n",
              "24997  1471255368366014465 2021-12-15 23:06:29+00:00   \n",
              "24998  1471255349944635396 2021-12-15 23:06:24+00:00   \n",
              "24999  1471255305631711238 2021-12-15 23:06:14+00:00   \n",
              "\n",
              "                                                    text            user  \n",
              "0      @TTejpal @ecemscrp @fia @Ben_Sulayem @redbull ...       jmart1226  \n",
              "1      @yadadoo20 @SchlowL @F1 @Max33Verstappen @redb...    vector2alpha  \n",
              "2      @MeterePopularis @dazib007 @mrsnek18 @FactosMe...         fil3638  \n",
              "3      @MeterePopularis @dazib007 @mrsnek18 @FactosMe...         fil3638  \n",
              "4      @stuartmblatch @FormuIaMax @redbullracing @Hon...    danny_chips_  \n",
              "...                                                  ...             ...  \n",
              "24995  @willireallyam1 @Max33Verstappen @redbullracin...    antimon_doto  \n",
              "24996  @msglamcoral500 @Max33Verstappen @redbullracin...        BangaaaX  \n",
              "24997  @MoWas08 @Max33Verstappen @redbullracing @Hond...         Niezels  \n",
              "24998  @redbullracing @Max33Verstappen @vladimirrys K...    BadHairSpray  \n",
              "24999  @Max33Verstappen @redbullracing @HondaRacingF1...  PanchoVilla___  \n",
              "\n",
              "[25000 rows x 4 columns]"
            ],
            "text/html": [
              "\n",
              "  <div id=\"df-0c37efb3-17f1-4009-8bc2-69c37164f417\">\n",
              "    <div class=\"colab-df-container\">\n",
              "      <div>\n",
              "<style scoped>\n",
              "    .dataframe tbody tr th:only-of-type {\n",
              "        vertical-align: middle;\n",
              "    }\n",
              "\n",
              "    .dataframe tbody tr th {\n",
              "        vertical-align: top;\n",
              "    }\n",
              "\n",
              "    .dataframe thead th {\n",
              "        text-align: right;\n",
              "    }\n",
              "</style>\n",
              "<table border=\"1\" class=\"dataframe\">\n",
              "  <thead>\n",
              "    <tr style=\"text-align: right;\">\n",
              "      <th></th>\n",
              "      <th>id</th>\n",
              "      <th>date</th>\n",
              "      <th>text</th>\n",
              "      <th>user</th>\n",
              "    </tr>\n",
              "  </thead>\n",
              "  <tbody>\n",
              "    <tr>\n",
              "      <th>0</th>\n",
              "      <td>1474892038067916802</td>\n",
              "      <td>2021-12-25 23:57:18+00:00</td>\n",
              "      <td>@TTejpal @ecemscrp @fia @Ben_Sulayem @redbull ...</td>\n",
              "      <td>jmart1226</td>\n",
              "    </tr>\n",
              "    <tr>\n",
              "      <th>1</th>\n",
              "      <td>1474891487674617864</td>\n",
              "      <td>2021-12-25 23:55:07+00:00</td>\n",
              "      <td>@yadadoo20 @SchlowL @F1 @Max33Verstappen @redb...</td>\n",
              "      <td>vector2alpha</td>\n",
              "    </tr>\n",
              "    <tr>\n",
              "      <th>2</th>\n",
              "      <td>1474889745293578243</td>\n",
              "      <td>2021-12-25 23:48:12+00:00</td>\n",
              "      <td>@MeterePopularis @dazib007 @mrsnek18 @FactosMe...</td>\n",
              "      <td>fil3638</td>\n",
              "    </tr>\n",
              "    <tr>\n",
              "      <th>3</th>\n",
              "      <td>1474889292103176194</td>\n",
              "      <td>2021-12-25 23:46:24+00:00</td>\n",
              "      <td>@MeterePopularis @dazib007 @mrsnek18 @FactosMe...</td>\n",
              "      <td>fil3638</td>\n",
              "    </tr>\n",
              "    <tr>\n",
              "      <th>4</th>\n",
              "      <td>1474887568718286852</td>\n",
              "      <td>2021-12-25 23:39:33+00:00</td>\n",
              "      <td>@stuartmblatch @FormuIaMax @redbullracing @Hon...</td>\n",
              "      <td>danny_chips_</td>\n",
              "    </tr>\n",
              "    <tr>\n",
              "      <th>...</th>\n",
              "      <td>...</td>\n",
              "      <td>...</td>\n",
              "      <td>...</td>\n",
              "      <td>...</td>\n",
              "    </tr>\n",
              "    <tr>\n",
              "      <th>24995</th>\n",
              "      <td>1471255419729371142</td>\n",
              "      <td>2021-12-15 23:06:41+00:00</td>\n",
              "      <td>@willireallyam1 @Max33Verstappen @redbullracin...</td>\n",
              "      <td>antimon_doto</td>\n",
              "    </tr>\n",
              "    <tr>\n",
              "      <th>24996</th>\n",
              "      <td>1471255384937672706</td>\n",
              "      <td>2021-12-15 23:06:33+00:00</td>\n",
              "      <td>@msglamcoral500 @Max33Verstappen @redbullracin...</td>\n",
              "      <td>BangaaaX</td>\n",
              "    </tr>\n",
              "    <tr>\n",
              "      <th>24997</th>\n",
              "      <td>1471255368366014465</td>\n",
              "      <td>2021-12-15 23:06:29+00:00</td>\n",
              "      <td>@MoWas08 @Max33Verstappen @redbullracing @Hond...</td>\n",
              "      <td>Niezels</td>\n",
              "    </tr>\n",
              "    <tr>\n",
              "      <th>24998</th>\n",
              "      <td>1471255349944635396</td>\n",
              "      <td>2021-12-15 23:06:24+00:00</td>\n",
              "      <td>@redbullracing @Max33Verstappen @vladimirrys K...</td>\n",
              "      <td>BadHairSpray</td>\n",
              "    </tr>\n",
              "    <tr>\n",
              "      <th>24999</th>\n",
              "      <td>1471255305631711238</td>\n",
              "      <td>2021-12-15 23:06:14+00:00</td>\n",
              "      <td>@Max33Verstappen @redbullracing @HondaRacingF1...</td>\n",
              "      <td>PanchoVilla___</td>\n",
              "    </tr>\n",
              "  </tbody>\n",
              "</table>\n",
              "<p>25000 rows × 4 columns</p>\n",
              "</div>\n",
              "      <button class=\"colab-df-convert\" onclick=\"convertToInteractive('df-0c37efb3-17f1-4009-8bc2-69c37164f417')\"\n",
              "              title=\"Convert this dataframe to an interactive table.\"\n",
              "              style=\"display:none;\">\n",
              "        \n",
              "  <svg xmlns=\"http://www.w3.org/2000/svg\" height=\"24px\"viewBox=\"0 0 24 24\"\n",
              "       width=\"24px\">\n",
              "    <path d=\"M0 0h24v24H0V0z\" fill=\"none\"/>\n",
              "    <path d=\"M18.56 5.44l.94 2.06.94-2.06 2.06-.94-2.06-.94-.94-2.06-.94 2.06-2.06.94zm-11 1L8.5 8.5l.94-2.06 2.06-.94-2.06-.94L8.5 2.5l-.94 2.06-2.06.94zm10 10l.94 2.06.94-2.06 2.06-.94-2.06-.94-.94-2.06-.94 2.06-2.06.94z\"/><path d=\"M17.41 7.96l-1.37-1.37c-.4-.4-.92-.59-1.43-.59-.52 0-1.04.2-1.43.59L10.3 9.45l-7.72 7.72c-.78.78-.78 2.05 0 2.83L4 21.41c.39.39.9.59 1.41.59.51 0 1.02-.2 1.41-.59l7.78-7.78 2.81-2.81c.8-.78.8-2.07 0-2.86zM5.41 20L4 18.59l7.72-7.72 1.47 1.35L5.41 20z\"/>\n",
              "  </svg>\n",
              "      </button>\n",
              "      \n",
              "  <style>\n",
              "    .colab-df-container {\n",
              "      display:flex;\n",
              "      flex-wrap:wrap;\n",
              "      gap: 12px;\n",
              "    }\n",
              "\n",
              "    .colab-df-convert {\n",
              "      background-color: #E8F0FE;\n",
              "      border: none;\n",
              "      border-radius: 50%;\n",
              "      cursor: pointer;\n",
              "      display: none;\n",
              "      fill: #1967D2;\n",
              "      height: 32px;\n",
              "      padding: 0 0 0 0;\n",
              "      width: 32px;\n",
              "    }\n",
              "\n",
              "    .colab-df-convert:hover {\n",
              "      background-color: #E2EBFA;\n",
              "      box-shadow: 0px 1px 2px rgba(60, 64, 67, 0.3), 0px 1px 3px 1px rgba(60, 64, 67, 0.15);\n",
              "      fill: #174EA6;\n",
              "    }\n",
              "\n",
              "    [theme=dark] .colab-df-convert {\n",
              "      background-color: #3B4455;\n",
              "      fill: #D2E3FC;\n",
              "    }\n",
              "\n",
              "    [theme=dark] .colab-df-convert:hover {\n",
              "      background-color: #434B5C;\n",
              "      box-shadow: 0px 1px 3px 1px rgba(0, 0, 0, 0.15);\n",
              "      filter: drop-shadow(0px 1px 2px rgba(0, 0, 0, 0.3));\n",
              "      fill: #FFFFFF;\n",
              "    }\n",
              "  </style>\n",
              "\n",
              "      <script>\n",
              "        const buttonEl =\n",
              "          document.querySelector('#df-0c37efb3-17f1-4009-8bc2-69c37164f417 button.colab-df-convert');\n",
              "        buttonEl.style.display =\n",
              "          google.colab.kernel.accessAllowed ? 'block' : 'none';\n",
              "\n",
              "        async function convertToInteractive(key) {\n",
              "          const element = document.querySelector('#df-0c37efb3-17f1-4009-8bc2-69c37164f417');\n",
              "          const dataTable =\n",
              "            await google.colab.kernel.invokeFunction('convertToInteractive',\n",
              "                                                     [key], {});\n",
              "          if (!dataTable) return;\n",
              "\n",
              "          const docLinkHtml = 'Like what you see? Visit the ' +\n",
              "            '<a target=\"_blank\" href=https://colab.research.google.com/notebooks/data_table.ipynb>data table notebook</a>'\n",
              "            + ' to learn more about interactive tables.';\n",
              "          element.innerHTML = '';\n",
              "          dataTable['output_type'] = 'display_data';\n",
              "          await google.colab.output.renderOutput(dataTable, element);\n",
              "          const docLink = document.createElement('div');\n",
              "          docLink.innerHTML = docLinkHtml;\n",
              "          element.appendChild(docLink);\n",
              "        }\n",
              "      </script>\n",
              "    </div>\n",
              "  </div>\n",
              "  "
            ]
          },
          "metadata": {},
          "execution_count": 40
        }
      ]
    },
    {
      "cell_type": "markdown",
      "source": [
        "### Saving the tweets to a CSV"
      ],
      "metadata": {
        "id": "pBxhODIN3u4k"
      }
    },
    {
      "cell_type": "code",
      "source": [
        "tweets_df.to_csv(\"replies.csv\", index=False)"
      ],
      "metadata": {
        "id": "G29sCkznioTe"
      },
      "execution_count": null,
      "outputs": []
    }
  ]
}